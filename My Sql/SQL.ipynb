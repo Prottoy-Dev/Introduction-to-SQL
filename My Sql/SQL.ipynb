{
 "cells": [
  {
   "cell_type": "code",
   "execution_count": 13,
   "id": "b832199f-b423-4dbb-9e9e-ee97068f7ccc",
   "metadata": {},
   "outputs": [],
   "source": [
    "#!pip install mysql-connector-python"
   ]
  },
  {
   "cell_type": "code",
   "execution_count": 7,
   "id": "16c89cbc-1e89-4f83-9c0e-c3eb6a2ab365",
   "metadata": {},
   "outputs": [],
   "source": [
    "import mysql.connector\n",
    "from mysql.connector import Error\n",
    "import pandas as pd"
   ]
  },
  {
   "cell_type": "code",
   "execution_count": 24,
   "id": "95897a8c-54f9-44f1-bf51-396543f81c54",
   "metadata": {},
   "outputs": [
    {
     "name": "stdout",
     "output_type": "stream",
     "text": [
      "MySQL Database connection successful\n"
     ]
    }
   ],
   "source": [
    "def create_server_connection(host_name, user_name, user_password):\n",
    "    connection = None\n",
    "    try:\n",
    "        connection = mysql.connector.connect(\n",
    "            host = host_name,\n",
    "            user = user_name,\n",
    "            password = user_password\n",
    "        )\n",
    "        print(\"MySQL Database connection successful\")\n",
    "    except Error as err:\n",
    "        print(f\"Error: {err}\")\n",
    "    return connection\n",
    "\n",
    "p = \"822181015696636\"\n",
    "db = \"mysql_python\"\n",
    "connection = create_server_connection(\"localhost\", \"root\", p)"
   ]
  },
  {
   "cell_type": "code",
   "execution_count": 25,
   "id": "6081f6cf-1553-4bd9-8294-a4e6b5030366",
   "metadata": {},
   "outputs": [
    {
     "name": "stdout",
     "output_type": "stream",
     "text": [
      "Database created successfully\n"
     ]
    }
   ],
   "source": [
    "def create_database(connection, query):\n",
    "    cursor  = connection.cursor()\n",
    "    try:\n",
    "        cursor.execute(query)\n",
    "        print(\"Database created successfully\")\n",
    "    except Error as err:\n",
    "        print(f\"Error: {err}\")\n",
    "\n",
    "create_databse_query = \"Create database mysql_python\"\n",
    "create_database(connection, create_databse_query)"
   ]
  },
  {
   "cell_type": "code",
   "execution_count": 26,
   "id": "4522bdd6-5d2a-4f8e-a930-e46dbf592da8",
   "metadata": {},
   "outputs": [],
   "source": [
    "def create_db_connection(host_name, user_name, user_password, db_name):\n",
    "    connection = None\n",
    "    try:\n",
    "        connection = mysql.connector.connect(\n",
    "            host = host_name,\n",
    "            user = user_name,\n",
    "            password = user_password,\n",
    "            database = db_name\n",
    "        )\n",
    "        print(\"MySQL Database connection successful\")\n",
    "    except Error as err:\n",
    "        print(f\"Error: {err}\")\n",
    "    return connection"
   ]
  },
  {
   "cell_type": "code",
   "execution_count": 27,
   "id": "7ba13564-0a26-4229-96bd-a2bc87aa12ba",
   "metadata": {},
   "outputs": [],
   "source": [
    "def execute_query(connection, query):\n",
    "    cursor  = connection.cursor()\n",
    "    try:\n",
    "        cursor.execute(query)\n",
    "        connection.commit()\n",
    "        print(\"Query was successful\")\n",
    "    except Error as err:\n",
    "        print(f\"Error: {err}\")"
   ]
  },
  {
   "cell_type": "code",
   "execution_count": 28,
   "id": "cf645763-402a-4e84-a742-9419dfe73870",
   "metadata": {},
   "outputs": [
    {
     "name": "stdout",
     "output_type": "stream",
     "text": [
      "MySQL Database connection successful\n"
     ]
    }
   ],
   "source": [
    "create_orders_table = \"\"\"\n",
    "create table orders(\n",
    "order_id int primary key,\n",
    "customer_name varchar(30) not null,\n",
    "product_name varchar(20) not null,\n",
    "data_ordered date,\n",
    "quantity int,\n",
    "unit_price float,\n",
    "phone_number varchar(20)\n",
    ");\n",
    "\"\"\"\n",
    "\n",
    "connection = create_db_connection(\"localhost\", \"root\", p, db)\n"
   ]
  },
  {
   "cell_type": "code",
   "execution_count": 29,
   "id": "86b88938-5f3b-4609-9abf-fb5565d3874d",
   "metadata": {},
   "outputs": [
    {
     "name": "stdout",
     "output_type": "stream",
     "text": [
      "Query was successful\n"
     ]
    }
   ],
   "source": [
    "execute_query(connection, create_orders_table)"
   ]
  },
  {
   "cell_type": "code",
   "execution_count": 31,
   "id": "e4238d56-1297-4c38-a9e0-ee39fcb95244",
   "metadata": {},
   "outputs": [
    {
     "name": "stdout",
     "output_type": "stream",
     "text": [
      "MySQL Database connection successful\n",
      "Query was successful\n"
     ]
    }
   ],
   "source": [
    "data_orders = \"\"\"\n",
    "insert into orders values\n",
    "(101, \"Steve\", \"Laptop\", \"2018-06-12\",2, 800, \"60498798576349875\"),\n",
    "(102, \"Seve\", \"Laptop\", \"2018-06-12\",2, 600, \"604987875\"),\n",
    "(103, \"Eve\", \"Laptop\", \"2018-06-12\",2, 700, \"60498576349875\");\n",
    "\"\"\"\n",
    "connection = create_db_connection(\"localhost\", \"root\", p, db)\n",
    "execute_query(connection, data_orders)"
   ]
  },
  {
   "cell_type": "code",
   "execution_count": 33,
   "id": "ed671e32-c2f7-4240-b301-431edfbc7d3e",
   "metadata": {},
   "outputs": [],
   "source": [
    "def read_query(connection, query):\n",
    "    cursor = connection.cursor()\n",
    "    result = None\n",
    "    try:\n",
    "        cursor.execute(query)\n",
    "        result = cursor.fetchall()\n",
    "        return result\n",
    "    except Error as err:\n",
    "        print(f\"Error: {err}\")"
   ]
  },
  {
   "cell_type": "code",
   "execution_count": 36,
   "id": "2e9daea0-b3a4-4e79-8510-623ebe4b36e5",
   "metadata": {},
   "outputs": [
    {
     "name": "stdout",
     "output_type": "stream",
     "text": [
      "MySQL Database connection successful\n",
      "(101, 'Steve', 'Laptop', datetime.date(2018, 6, 12), 2, 800.0, '60498798576349875')\n",
      "(102, 'Seve', 'Laptop', datetime.date(2018, 6, 12), 2, 600.0, '604987875')\n",
      "(103, 'Eve', 'Laptop', datetime.date(2018, 6, 12), 2, 700.0, '60498576349875')\n"
     ]
    }
   ],
   "source": [
    "q1 = \"\"\"\n",
    "select * from orders;\n",
    "\"\"\"\n",
    "connection = create_db_connection(\"localhost\", \"root\", p, db)\n",
    "results = read_query(connection, q1)\n",
    "for result in results:\n",
    "    print(result)"
   ]
  },
  {
   "cell_type": "code",
   "execution_count": 37,
   "id": "5799ce57-028e-481b-a541-bf6d5c2af12f",
   "metadata": {},
   "outputs": [
    {
     "name": "stdout",
     "output_type": "stream",
     "text": [
      "MySQL Database connection successful\n",
      "('Steve', '60498798576349875')\n",
      "('Seve', '604987875')\n",
      "('Eve', '60498576349875')\n"
     ]
    }
   ],
   "source": [
    "q2 = \"\"\"\n",
    "select customer_name, phone_number from orders;\n",
    "\"\"\"\n",
    "connection = create_db_connection(\"localhost\", \"root\", p, db)\n",
    "results = read_query(connection, q2)\n",
    "for result in results:\n",
    "    print(result)"
   ]
  },
  {
   "cell_type": "code",
   "execution_count": 39,
   "id": "eae3ed07-84b7-42da-aab3-a5f4b743d20e",
   "metadata": {},
   "outputs": [
    {
     "name": "stdout",
     "output_type": "stream",
     "text": [
      "MySQL Database connection successful\n",
      "(2018,)\n",
      "(2018,)\n",
      "(2018,)\n"
     ]
    }
   ],
   "source": [
    "q3 = \"\"\"\n",
    "select year(data_ordered) from orders;\n",
    "\"\"\"\n",
    "connection = create_db_connection(\"localhost\", \"root\", p, db)\n",
    "results = read_query(connection, q3)\n",
    "for result in results:\n",
    "    print(result)"
   ]
  },
  {
   "cell_type": "code",
   "execution_count": 40,
   "id": "4e776c79-f3b5-4ce8-a598-11669272fd3d",
   "metadata": {},
   "outputs": [
    {
     "name": "stdout",
     "output_type": "stream",
     "text": [
      "MySQL Database connection successful\n",
      "(2018,)\n"
     ]
    }
   ],
   "source": [
    "q4 = \"\"\"\n",
    "select distinct year(data_ordered) from orders;\n",
    "\"\"\"\n",
    "connection = create_db_connection(\"localhost\", \"root\", p, db)\n",
    "results = read_query(connection, q4)\n",
    "for result in results:\n",
    "    print(result)"
   ]
  },
  {
   "cell_type": "code",
   "execution_count": 41,
   "id": "c84461c8-7dae-4e75-a4b6-9f0670bf5a90",
   "metadata": {},
   "outputs": [
    {
     "name": "stdout",
     "output_type": "stream",
     "text": [
      "MySQL Database connection successful\n",
      "(101, 'Steve', 'Laptop', datetime.date(2018, 6, 12), 2, 800.0, '60498798576349875')\n",
      "(102, 'Seve', 'Laptop', datetime.date(2018, 6, 12), 2, 600.0, '604987875')\n",
      "(103, 'Eve', 'Laptop', datetime.date(2018, 6, 12), 2, 700.0, '60498576349875')\n"
     ]
    }
   ],
   "source": [
    "q5 = \"\"\"\n",
    "select * from orders where data_ordered < \"2018-12-31\"\n",
    "\"\"\"\n",
    "connection = create_db_connection(\"localhost\", \"root\", p, db)\n",
    "results = read_query(connection, q5)\n",
    "for result in results:\n",
    "    print(result)"
   ]
  },
  {
   "cell_type": "code",
   "execution_count": 44,
   "id": "c86026c7-af09-4337-93d3-ecbb235dda3e",
   "metadata": {},
   "outputs": [
    {
     "name": "stdout",
     "output_type": "stream",
     "text": [
      "MySQL Database connection successful\n",
      "(101, 'Steve', 'Laptop', datetime.date(2018, 6, 12), 2, 800.0, '60498798576349875')\n",
      "(103, 'Eve', 'Laptop', datetime.date(2018, 6, 12), 2, 700.0, '60498576349875')\n",
      "(102, 'Seve', 'Laptop', datetime.date(2018, 6, 12), 2, 600.0, '604987875')\n"
     ]
    }
   ],
   "source": [
    "q6 = \"\"\"\n",
    "select * from orders order by unit_price desc;\n",
    "\"\"\"\n",
    "connection = create_db_connection(\"localhost\", \"root\", p, db)\n",
    "results = read_query(connection, q6)\n",
    "for result in results:\n",
    "    print(result)"
   ]
  },
  {
   "cell_type": "code",
   "execution_count": 49,
   "id": "0e016971-4541-4525-aa29-72ae6fc66742",
   "metadata": {},
   "outputs": [
    {
     "data": {
      "text/html": [
       "<div>\n",
       "<style scoped>\n",
       "    .dataframe tbody tr th:only-of-type {\n",
       "        vertical-align: middle;\n",
       "    }\n",
       "\n",
       "    .dataframe tbody tr th {\n",
       "        vertical-align: top;\n",
       "    }\n",
       "\n",
       "    .dataframe thead th {\n",
       "        text-align: right;\n",
       "    }\n",
       "</style>\n",
       "<table border=\"1\" class=\"dataframe\">\n",
       "  <thead>\n",
       "    <tr style=\"text-align: right;\">\n",
       "      <th></th>\n",
       "      <th>order_id</th>\n",
       "      <th>customer_name</th>\n",
       "      <th>product_name</th>\n",
       "      <th>date_orderd</th>\n",
       "      <th>quantity</th>\n",
       "      <th>unit_price</th>\n",
       "      <th>phone_number</th>\n",
       "    </tr>\n",
       "  </thead>\n",
       "  <tbody>\n",
       "    <tr>\n",
       "      <th>0</th>\n",
       "      <td>101</td>\n",
       "      <td>Steve</td>\n",
       "      <td>Laptop</td>\n",
       "      <td>2018-06-12</td>\n",
       "      <td>2</td>\n",
       "      <td>800.0</td>\n",
       "      <td>60498798576349875</td>\n",
       "    </tr>\n",
       "    <tr>\n",
       "      <th>1</th>\n",
       "      <td>103</td>\n",
       "      <td>Eve</td>\n",
       "      <td>Laptop</td>\n",
       "      <td>2018-06-12</td>\n",
       "      <td>2</td>\n",
       "      <td>700.0</td>\n",
       "      <td>60498576349875</td>\n",
       "    </tr>\n",
       "    <tr>\n",
       "      <th>2</th>\n",
       "      <td>102</td>\n",
       "      <td>Seve</td>\n",
       "      <td>Laptop</td>\n",
       "      <td>2018-06-12</td>\n",
       "      <td>2</td>\n",
       "      <td>600.0</td>\n",
       "      <td>604987875</td>\n",
       "    </tr>\n",
       "  </tbody>\n",
       "</table>\n",
       "</div>"
      ],
      "text/plain": [
       "   order_id customer_name product_name date_orderd  quantity  unit_price  \\\n",
       "0       101         Steve       Laptop  2018-06-12         2       800.0   \n",
       "1       103           Eve       Laptop  2018-06-12         2       700.0   \n",
       "2       102          Seve       Laptop  2018-06-12         2       600.0   \n",
       "\n",
       "        phone_number  \n",
       "0  60498798576349875  \n",
       "1     60498576349875  \n",
       "2          604987875  "
      ]
     },
     "metadata": {},
     "output_type": "display_data"
    },
    {
     "name": "stdout",
     "output_type": "stream",
     "text": [
      "[[101, 'Steve', 'Laptop', datetime.date(2018, 6, 12), 2, 800.0, '60498798576349875'], [103, 'Eve', 'Laptop', datetime.date(2018, 6, 12), 2, 700.0, '60498576349875'], [102, 'Seve', 'Laptop', datetime.date(2018, 6, 12), 2, 600.0, '604987875']]\n"
     ]
    }
   ],
   "source": [
    "from_db = []\n",
    "for result in results:\n",
    "    result = list(result)\n",
    "    from_db.append(result)\n",
    "\n",
    "columns = [\"order_id\", \n",
    "           \"customer_name\",\n",
    "           \"product_name\",\n",
    "           \"date_orderd\",\n",
    "           \"quantity\",\n",
    "           \"unit_price\",\n",
    "           \"phone_number\"\n",
    "          ]\n",
    "df = pd.DataFrame(from_db, columns = columns)\n",
    "display(df)\n",
    "print(from_db)"
   ]
  },
  {
   "cell_type": "code",
   "execution_count": 52,
   "id": "e36e67bb-8bbc-445f-9fbe-8ae2e2ccbc94",
   "metadata": {},
   "outputs": [
    {
     "name": "stdout",
     "output_type": "stream",
     "text": [
      "MySQL Database connection successful\n",
      "Query was successful\n"
     ]
    }
   ],
   "source": [
    "update = \"\"\"\n",
    "update orders\n",
    "set unit_price = 45\n",
    "where order_id = 103\n",
    "\"\"\"\n",
    "\n",
    "connection = create_db_connection(\"localhost\", \"root\", p, db)\n",
    "execute_query(connection, update)\n"
   ]
  },
  {
   "cell_type": "code",
   "execution_count": 55,
   "id": "a1903ee6-7040-4e2b-8803-d467079bc930",
   "metadata": {},
   "outputs": [
    {
     "name": "stdout",
     "output_type": "stream",
     "text": [
      "MySQL Database connection successful\n",
      "(103, 'Eve', 'Laptop', datetime.date(2018, 6, 12), 2, 45.0, '60498576349875')\n"
     ]
    }
   ],
   "source": [
    "q7 = \"\"\"\n",
    "select * from orders where order_id = 103;\n",
    "\"\"\"\n",
    "connection = create_db_connection(\"localhost\", \"root\", p, db)\n",
    "results = read_query(connection, q7)\n",
    "for result in results:\n",
    "    print(result)\n"
   ]
  },
  {
   "cell_type": "code",
   "execution_count": 59,
   "id": "4c7f5d5b-ce02-4dea-87b3-56aa70c23d8c",
   "metadata": {},
   "outputs": [
    {
     "name": "stdout",
     "output_type": "stream",
     "text": [
      "MySQL Database connection successful\n",
      "Query was successful\n"
     ]
    }
   ],
   "source": [
    "delete_order = \"\"\"\n",
    "delete from orders\n",
    "where order_id =102;\n",
    "\"\"\"\n",
    "connection = create_db_connection(\"localhost\", \"root\", p, db)\n",
    "execute_query(connection, delete_order)\n"
   ]
  },
  {
   "cell_type": "code",
   "execution_count": 60,
   "id": "d96f0ef8-15ec-4886-941a-b2ada1e3174e",
   "metadata": {},
   "outputs": [
    {
     "name": "stdout",
     "output_type": "stream",
     "text": [
      "MySQL Database connection successful\n",
      "(101, 'Steve', 'Laptop', datetime.date(2018, 6, 12), 2, 800.0, '60498798576349875')\n",
      "(103, 'Eve', 'Laptop', datetime.date(2018, 6, 12), 2, 45.0, '60498576349875')\n"
     ]
    }
   ],
   "source": [
    "q8 = \"\"\"\n",
    "select * from orders;\n",
    "\"\"\"\n",
    "connection = create_db_connection(\"localhost\", \"root\", p, db)\n",
    "results = read_query(connection, q8)\n",
    "for result in results:\n",
    "    print(result)"
   ]
  },
  {
   "cell_type": "code",
   "execution_count": null,
   "id": "90cefe3b-9ebc-4951-9797-c523f8fe7eee",
   "metadata": {},
   "outputs": [],
   "source": []
  }
 ],
 "metadata": {
  "kernelspec": {
   "display_name": "Python [conda env:base] *",
   "language": "python",
   "name": "conda-base-py"
  },
  "language_info": {
   "codemirror_mode": {
    "name": "ipython",
    "version": 3
   },
   "file_extension": ".py",
   "mimetype": "text/x-python",
   "name": "python",
   "nbconvert_exporter": "python",
   "pygments_lexer": "ipython3",
   "version": "3.12.7"
  }
 },
 "nbformat": 4,
 "nbformat_minor": 5
}
